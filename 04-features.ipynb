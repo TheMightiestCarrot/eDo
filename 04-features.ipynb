{
 "cells": [
  {
   "cell_type": "code",
   "execution_count": 3,
   "metadata": {},
   "outputs": [],
   "source": [
    "import os\n",
    "import numpy as np\n",
    "import pandas as pd\n",
    "\n",
    "data_path = os.path.join(\"eDo\", 'data', 'processed_with_targets.csv')\n",
    "df = pd.read_csv(data_path, parse_dates=['DateTime'])\n",
    "df.sort_values(\"DateTime\", inplace=True)"
   ]
  },
  {
   "cell_type": "code",
   "execution_count": 4,
   "metadata": {},
   "outputs": [
    {
     "data": {
      "text/plain": [
       "Index(['DateTime', 'Open', 'High', 'Low', 'Close', 'Volume', 'log_ret',\n",
       "       'fracdiff', 'Return_next_10', 'ReturnBin10', 'ReturnBinQuantile',\n",
       "       'ReturnBin10_manual', 'ReturnBin10_manual_bell'],\n",
       "      dtype='object')"
      ]
     },
     "execution_count": 4,
     "metadata": {},
     "output_type": "execute_result"
    }
   ],
   "source": [
    "df.columns"
   ]
  },
  {
   "cell_type": "markdown",
   "metadata": {},
   "source": [
    "# Astrology features"
   ]
  },
  {
   "cell_type": "markdown",
   "metadata": {},
   "source": [
    "...god i hate technical indicators"
   ]
  },
  {
   "cell_type": "code",
   "execution_count": null,
   "metadata": {},
   "outputs": [],
   "source": []
  },
  {
   "cell_type": "markdown",
   "metadata": {},
   "source": [
    "# Time of day"
   ]
  },
  {
   "cell_type": "code",
   "execution_count": null,
   "metadata": {},
   "outputs": [],
   "source": []
  },
  {
   "cell_type": "markdown",
   "metadata": {},
   "source": [
    "# Triple barrier"
   ]
  },
  {
   "cell_type": "code",
   "execution_count": null,
   "metadata": {},
   "outputs": [],
   "source": []
  },
  {
   "cell_type": "markdown",
   "metadata": {},
   "source": [
    "# Lags"
   ]
  },
  {
   "cell_type": "code",
   "execution_count": null,
   "metadata": {},
   "outputs": [],
   "source": []
  },
  {
   "cell_type": "markdown",
   "metadata": {},
   "source": [
    "# Processing"
   ]
  },
  {
   "cell_type": "code",
   "execution_count": null,
   "metadata": {},
   "outputs": [],
   "source": [
    "# normalization\n",
    "# fracdiff"
   ]
  },
  {
   "cell_type": "markdown",
   "metadata": {},
   "source": [
    "# External features"
   ]
  },
  {
   "cell_type": "code",
   "execution_count": null,
   "metadata": {},
   "outputs": [],
   "source": [
    "# Sentiment and External Variables (Advanced)\n",
    "# While not strictly derived from the OHLCV dataset, including external data—like sentiment from social media (Twitter, Reddit), Google Trends, or blockchain metrics (e.g., on-chain transactions, hash rate)—often adds predictive power for crypto assets (Li et al., 2020).\n",
    "# Potential External Features\n",
    "# Social Media Sentiment Scores (e.g., VADER, BERT-based)\n",
    "# Search Trends (Google Trends, Baidu Index)\n",
    "# On-Chain Metrics:\n",
    "# Active addresses\n",
    "# Hash rate, mining difficulty\n",
    "# Exchange flows (inflow/outflow)\n",
    "# \t- menove pary\n",
    "# \t- kryptove pary\n",
    "# \t- zlato\n",
    "# \t- indexy\n",
    "# \t- ine krypto\n",
    "# \t- bondy\n",
    "# \t- urokove sadzby US (alebo proxy)\n",
    "# \t- urokove sadzby eu\n",
    "# \t- urokove sadzby ostatne hlavne krajiny\n"
   ]
  }
 ],
 "metadata": {
  "kernelspec": {
   "display_name": "Python 3",
   "language": "python",
   "name": "python3"
  },
  "language_info": {
   "codemirror_mode": {
    "name": "ipython",
    "version": 3
   },
   "file_extension": ".py",
   "mimetype": "text/x-python",
   "name": "python",
   "nbconvert_exporter": "python",
   "pygments_lexer": "ipython3",
   "version": "3.10.12"
  }
 },
 "nbformat": 4,
 "nbformat_minor": 2
}
